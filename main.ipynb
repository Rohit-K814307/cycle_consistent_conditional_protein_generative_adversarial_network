{
 "cells": [
  {
   "cell_type": "code",
   "execution_count": 13,
   "metadata": {},
   "outputs": [],
   "source": [
    "from gan_protein_structural_requirements.utils.protein_visualizer import jupy_viz_obj as jvo, jupy_viz_file as jvf\n",
    "from gan_protein_structural_requirements.utils.folding_models import esm_batch_predict as esm_batch_predict, esm_predict as esm_predict\n",
    "from gan_protein_structural_requirements.utils.extract_structure import extract_structures as extract_structures"
   ]
  },
  {
   "cell_type": "code",
   "execution_count": 14,
   "metadata": {},
   "outputs": [
    {
     "name": "stderr",
     "output_type": "stream",
     "text": [
      "/Users/rohitkulkarni/opt/anaconda3/envs/protein_proj/lib/python3.8/site-packages/Bio/PDB/DSSP.py:199: UserWarning: no atoms read before TER record \n",
      "TER    3208      PHE A 315                                                      \n",
      "\n",
      "  warnings.warn(err)\n",
      "/Users/rohitkulkarni/opt/anaconda3/envs/protein_proj/lib/python3.8/site-packages/Bio/PDB/DSSP.py:199: UserWarning: no atoms read before TER record \n",
      "TER    4101      VAL D  66                                                      \n",
      "\n",
      "  warnings.warn(err)\n",
      "/Users/rohitkulkarni/opt/anaconda3/envs/protein_proj/lib/python3.8/site-packages/Bio/PDB/DSSP.py:199: UserWarning: no atoms read before TER record \n",
      "TER    3208      PHE A 315                                                      \n",
      "\n",
      "  warnings.warn(err)\n",
      "/Users/rohitkulkarni/opt/anaconda3/envs/protein_proj/lib/python3.8/site-packages/Bio/PDB/DSSP.py:199: UserWarning: no atoms read before TER record \n",
      "TER    4101      VAL D  66                                                      \n",
      "\n",
      "  warnings.warn(err)\n"
     ]
    }
   ],
   "source": [
    "data = extract_structures(\"./gan_protein_structural_requirements/data/raw/batch_1_data/\")"
   ]
  },
  {
   "cell_type": "code",
   "execution_count": 22,
   "metadata": {},
   "outputs": [
    {
     "name": "stdout",
     "output_type": "stream",
     "text": [
      "621\n"
     ]
    }
   ],
   "source": [
    "import pandas as pd\n",
    "import numpy as np\n",
    "\n",
    "arr = []\n",
    "\n",
    "for entry in data[\"secondary\"]:\n",
    "    id = entry\n",
    "    seq = data[\"secondary\"][id]['sequence']\n",
    "    c8 = data[\"secondary\"][id]['c8']\n",
    "    pol = data[\"primary_pol\"][id][\"polarity_conv\"]\n",
    "    arr.append([id, seq, c8, pol])\n",
    "\n",
    "dat = np.array(arr)\n",
    "\n",
    "df = pd.DataFrame(dat, columns=[\"id\",\"seq\",\"c8\",\"polarity\"])\n",
    "df.head()\n",
    "\n",
    "print(df.seq.map(lambda x: len(x)).max())\n",
    "\n",
    "#max len of tokens = 1000"
   ]
  }
 ],
 "metadata": {
  "kernelspec": {
   "display_name": "protein_proj",
   "language": "python",
   "name": "python3"
  },
  "language_info": {
   "codemirror_mode": {
    "name": "ipython",
    "version": 3
   },
   "file_extension": ".py",
   "mimetype": "text/x-python",
   "name": "python",
   "nbconvert_exporter": "python",
   "pygments_lexer": "ipython3",
   "version": "3.8.18"
  }
 },
 "nbformat": 4,
 "nbformat_minor": 2
}
